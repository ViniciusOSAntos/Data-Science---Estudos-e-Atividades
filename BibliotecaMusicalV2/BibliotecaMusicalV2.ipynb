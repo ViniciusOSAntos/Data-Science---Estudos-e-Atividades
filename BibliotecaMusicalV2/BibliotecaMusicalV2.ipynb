{
 "cells": [
  {
   "cell_type": "markdown",
   "id": "27893d8c-f1ef-4f0b-908b-c250bc329284",
   "metadata": {},
   "source": [
    "# Biblioteca Musical - Atividade de Validação de Conhecimentos\n",
    "\n",
    "A ideia é explorar os recursos apreendidos durante os cursos feitos até então e ter um projeto\n",
    "base de referência para projetos futuros."
   ]
  },
  {
   "cell_type": "code",
   "execution_count": null,
   "id": "02c677a9-e615-4ef1-b175-5b8a7f256137",
   "metadata": {},
   "outputs": [],
   "source": [
    "#imports\n",
    "#!pip install graphviz\n",
    "import pandas as pd\n",
    "#!pip install folium\n",
    "import squarify\n",
    "import folium\n",
    "import seaborn as srn\n",
    "import matplotlib.pyplot as plt\n",
    "from matplotlib import style\n",
    "import numpy as np\n",
    "%matplotlib inline\n",
    "import plotly.express as px\n",
    "import plotly.graph_objects as go\n",
    "from bokeh.palettes import Category20c\n",
    "from bokeh.plotting import figure, show\n",
    "#print(plt.style.available)\n",
    "#Treinando um algoritmo\n",
    "import sklearn as sk\n",
    "from sklearn.model_selection import train_test_split\n",
    "from sklearn.metrics import confusion_matrix, accuracy_score\n",
    "from sklearn.ensemble import ExtraTreesClassifier\n",
    "import graphviz\n",
    "from sklearn.tree import export_graphviz\n",
    "from sklearn.tree import DecisionTreeClassifier\n",
    "from sklearn.ensemble import RandomForestClassifier"
   ]
  },
  {
   "cell_type": "code",
   "execution_count": null,
   "id": "2ebfddda-04e9-406b-b4ff-a0c5795852b9",
   "metadata": {},
   "outputs": [],
   "source": [
    "#carregando dados como dataframe\n",
    "\n",
    "album = pd.read_csv('ALBUM.csv')"
   ]
  },
  {
   "cell_type": "code",
   "execution_count": null,
   "id": "91e12a4d-2568-49a1-bb22-8f01a98cbed6",
   "metadata": {},
   "outputs": [],
   "source": [
    "#Verificando nulos\n",
    "albumNulos = pd.isnull(album[\"ANO\"])\n",
    "albumNulos"
   ]
  },
  {
   "cell_type": "code",
   "execution_count": null,
   "id": "8f2a24e9-fcbf-4551-84ff-541ac23b9dbd",
   "metadata": {},
   "outputs": [],
   "source": [
    "album.head()"
   ]
  },
  {
   "cell_type": "code",
   "execution_count": null,
   "id": "bb35d677-9c5a-4628-8c1a-328fb678b56a",
   "metadata": {},
   "outputs": [],
   "source": [
    "artista = pd.read_csv('ARTISTA.csv')\n",
    "artista.head()"
   ]
  },
  {
   "cell_type": "code",
   "execution_count": null,
   "id": "a75983a3-1228-4eda-82f4-768379427bb9",
   "metadata": {},
   "outputs": [],
   "source": [
    "#removendo valores NA\n",
    "mediana = album['ANO'].median()\n",
    "mediana"
   ]
  },
  {
   "cell_type": "code",
   "execution_count": null,
   "id": "9fea4ea3-0c01-43b1-aff4-589b31a3e834",
   "metadata": {},
   "outputs": [],
   "source": [
    "#opitei por usar a mediana para substuir valores NA na coluna ANO // Procurar como substituir só na coluna\n",
    "album = album.fillna(value = mediana)\n",
    "album"
   ]
  },
  {
   "cell_type": "code",
   "execution_count": null,
   "id": "59c5adbc-3084-421b-b8d7-90e695cffb71",
   "metadata": {},
   "outputs": [],
   "source": [
    "#Convertendo a coluna ano para inteiro\n",
    "album['ANO'] = album['ANO'].astype(int)"
   ]
  },
  {
   "cell_type": "code",
   "execution_count": null,
   "id": "b772b2e7-998c-458d-a24f-4133f1bb208e",
   "metadata": {},
   "outputs": [],
   "source": [
    "#fazendo o merge dos dois dataframes\n",
    "merge = album.merge(artista, on='ID_ARTISTA', how = 'outer')\n",
    "\n",
    "merge.rename(columns={'NOME_x': 'NOME_ALBUM', \n",
    "                           'NOME_y': 'NOME_BANDA'}, inplace=True)\n",
    "\n",
    "merge.to_csv(\"MERGE.csv\")"
   ]
  },
  {
   "cell_type": "code",
   "execution_count": null,
   "id": "2ca1b80e-87e4-4fc7-a0c2-27ca7d252dfd",
   "metadata": {},
   "outputs": [],
   "source": [
    "#resumo dos dataframe artista\n",
    "artista['QTD_MEMBROS'].describe()"
   ]
  },
  {
   "cell_type": "code",
   "execution_count": null,
   "id": "4b7d511d-87f0-4237-b0da-40da85fe0939",
   "metadata": {},
   "outputs": [],
   "source": [
    "#resumo dos dataframe album\n",
    "album.describe()"
   ]
  },
  {
   "cell_type": "code",
   "execution_count": null,
   "id": "c3e1ce98-9e57-453e-a39f-fddaae85e394",
   "metadata": {},
   "outputs": [],
   "source": [
    "#testando o uso de slices \n",
    "album[10:35]"
   ]
  },
  {
   "cell_type": "code",
   "execution_count": null,
   "id": "b4eacbc5-ca1d-4ec6-a6ae-30b91a212bb4",
   "metadata": {},
   "outputs": [],
   "source": [
    "album[album['ANO'] > 2000]"
   ]
  },
  {
   "cell_type": "code",
   "execution_count": null,
   "id": "a8ecfc31-f0d7-4bb5-aa18-87e265112803",
   "metadata": {},
   "outputs": [],
   "source": [
    "#Procurar como usar duas condições no slice\n",
    "album[album['MEDIA_SPUT'] > 4.5]"
   ]
  },
  {
   "cell_type": "code",
   "execution_count": null,
   "id": "76097763-eedb-49c2-8541-9c4b8f033677",
   "metadata": {},
   "outputs": [],
   "source": [
    "#Localizando dados no dataframe\n",
    "album.loc[[1]]"
   ]
  },
  {
   "cell_type": "code",
   "execution_count": null,
   "id": "2e2b46ed-29f8-404d-aedd-defd13c36d3d",
   "metadata": {},
   "outputs": [],
   "source": [
    "album.loc[[1,2]]"
   ]
  },
  {
   "cell_type": "code",
   "execution_count": null,
   "id": "f57cc6fa-67f3-45d3-b858-d3207b473500",
   "metadata": {},
   "outputs": [],
   "source": [
    "album.loc[1:8]"
   ]
  },
  {
   "cell_type": "code",
   "execution_count": null,
   "id": "e66e830c-7723-4329-a070-869508642d58",
   "metadata": {},
   "outputs": [],
   "source": [
    "#Traz do primeiro ao quinto dado da última coluna\n",
    "album.iloc[0:5,-1]"
   ]
  },
  {
   "cell_type": "code",
   "execution_count": null,
   "id": "eb46d1ed-64f9-459a-9235-f0f031ee36b0",
   "metadata": {},
   "outputs": [],
   "source": [
    "#Utilizando a função Unique - Retorna valores únicos\n",
    "album['MINHA_NOTA'].unique()"
   ]
  },
  {
   "cell_type": "code",
   "execution_count": null,
   "id": "3c1faec9-b63e-4ec4-87cd-720d4d477661",
   "metadata": {},
   "outputs": [],
   "source": [
    "#Ordenando pelas maiores notas do Sputinik\n",
    "albumOrdenadoNotaSput = album.sort_values(by='MEDIA_SPUT',ascending=False)\n",
    "albumOrdenadoNotaSput"
   ]
  },
  {
   "cell_type": "code",
   "execution_count": null,
   "id": "e3dfa7c2-ff47-47f0-a666-1530c584c48c",
   "metadata": {},
   "outputs": [],
   "source": [
    "#Usando value counts - Mostra a fequência de cada elemento\n",
    "print('Quantidade de Faixas')\n",
    "album['QTD_FAIXAS'].value_counts()\n"
   ]
  },
  {
   "cell_type": "code",
   "execution_count": null,
   "id": "d1698393-ad8d-4901-9fcc-155b8976fc5d",
   "metadata": {},
   "outputs": [],
   "source": [
    "#album.groupby(['QTD_FAIXAS']).mean()\n",
    "#album.groupby(level=0).mean()\n",
    "#É possível ver as estatístias da minha nota por artista\n",
    "merge.groupby(['NOME_BANDA'])['MINHA_NOTA'].agg(['max','min','mean','median'])"
   ]
  },
  {
   "cell_type": "code",
   "execution_count": null,
   "id": "825a2946-2ce6-492a-bccb-52fd03621d8f",
   "metadata": {},
   "outputs": [],
   "source": [
    "#É possível ver as estatístias da media sput por artista\n",
    "merge.groupby(['NOME_BANDA'])['MEDIA_SPUT'].agg(['max','min','mean','median'])"
   ]
  },
  {
   "cell_type": "code",
   "execution_count": null,
   "id": "18013035-ab00-4933-9487-ca6c341cc161",
   "metadata": {},
   "outputs": [],
   "source": [
    "#Substituindo valores com função map\n",
    "albumMap = album\n",
    "banda = {1:'Black Sabbath', 2:'Iron Maiden'}\n",
    "albumMap['ID_ARTISTA'].map(banda).head()"
   ]
  },
  {
   "cell_type": "code",
   "execution_count": null,
   "id": "aa24fe00-60e2-4e32-b614-8c8cde809fac",
   "metadata": {},
   "outputs": [],
   "source": [
    "#Função Pivot - Ainda preciso entender melhor como utilizar\n",
    "merge.pivot(index='ID_ALBUM', columns='PAIS', values='MINHA_NOTA')\n"
   ]
  },
  {
   "cell_type": "code",
   "execution_count": null,
   "id": "ea292801-b605-416d-b0af-151683c4c0c0",
   "metadata": {},
   "outputs": [],
   "source": [
    "artista.groupby(['GENERO']).count() \n"
   ]
  },
  {
   "cell_type": "code",
   "execution_count": null,
   "id": "c7b053bc-b59b-4038-ad76-411ee19ee703",
   "metadata": {},
   "outputs": [],
   "source": [
    "#Qual gênero mais ouvido por artista, desta vez separado pelos 3 maiores\n",
    "#Pensar numa ideia de mostrar menos itens\n",
    "\n",
    "values = artista['GENERO'].value_counts().keys().tolist()\n",
    "counts = artista['GENERO'].value_counts().tolist()\n",
    "\n",
    "othersValues = 'Others'\n",
    "othersCounts = counts[3:]\n",
    "\n",
    "values = values[0:3]\n",
    "counts = counts[0:3]\n",
    "\n",
    "counts.append(sum(othersCounts))\n",
    "values.append(othersValues)\n",
    "\n",
    "\n",
    "plt.style.use('seaborn-whitegrid')\n",
    "fig = plt.figure(figsize =(16, 10)) \n",
    "plt.title(\"Gênero por Artista\")\n",
    "plt.pie(counts, labels = values, autopct='%.2f%%', shadow = True) \n",
    "\n",
    "plt.show() "
   ]
  },
  {
   "cell_type": "code",
   "execution_count": null,
   "id": "466c46fe-11dc-4f0e-b2f1-0d4d2dd38d7c",
   "metadata": {},
   "outputs": [],
   "source": [
    "#Donut Chart\n",
    "figs = plt.figure(figsize = (16, 8))\n",
    "\n",
    "my_circle = plt.Circle((0, 0), 0.7, color='white')\n",
    "\n",
    "d = plt.pie(counts, labels=values, autopct='%1.1f%%',\n",
    "            startangle=45, labeldistance=1.25)\n",
    "plt.axis('equal')\n",
    "plt.gca().add_artist(my_circle)\n",
    "            \n",
    "plt.show()"
   ]
  },
  {
   "cell_type": "code",
   "execution_count": null,
   "id": "77388c8f-889d-424e-9c81-6e707864a760",
   "metadata": {},
   "outputs": [],
   "source": [
    "#Qual gênero mais ouvido por álbum\n",
    "#Gráfico de barras horizontal devido a quantidade de itens\n",
    "label = merge['GENERO'].value_counts().keys().tolist()\n",
    "freq = merge['GENERO'].value_counts().tolist()\n",
    "\n",
    "\n",
    "#plot do gráfico\n",
    "#Funcão reverse inverte a lista, permitindo que os maiores valores fiquem acima no gráfico\n",
    "freq.reverse()\n",
    "label.reverse()\n",
    "\n",
    "#Faz o slicing dos últimos 7 elementos\n",
    "freq = freq[-7:]\n",
    "label = label[-7:]\n",
    "\n",
    "print(freq)\n",
    "print('\\n\\n', label)\n",
    "\n",
    "figs = plt.figure(figsize = (16, 8))\n",
    "plt.barh(label, freq)\n",
    "plt.xticks(rotation = 70, fontsize = 25)\n",
    "plt.yticks(fontsize = 20)\n",
    "\n",
    "plt.show()\n"
   ]
  },
  {
   "cell_type": "code",
   "execution_count": null,
   "id": "964e3b84-ee44-44e1-b801-834792f23931",
   "metadata": {},
   "outputs": [],
   "source": [
    "freq.reverse()\n",
    "label.reverse()\n",
    "\n",
    "colors = ['#4287f5','#7794fc','#6aa2fc','#98befa','#2575f5', '#4287f5', '#98befa']\n",
    "\n",
    "fig = go.Figure(go.Funnelarea(text = label, values = freq))\n",
    "\n",
    "fig.update_layout(title_text=\"Gêneros Mais Ouvidos por Álbum\", autosize = False, width = 800, height = 800, showlegend = False, title_x = 0.5)\n",
    "\n",
    "fig.update_traces(textfont_size = 20, marker = dict(colors = colors))                 \n",
    "                  \n",
    "\n",
    "fig.show()"
   ]
  },
  {
   "cell_type": "code",
   "execution_count": null,
   "id": "71893b35-f47d-4ba3-9450-82662115fa2b",
   "metadata": {},
   "outputs": [],
   "source": [
    "#Gráfico de Mapa\n",
    "#Manipulando dados para gerar o mapa\n",
    "\n",
    "#Inserindo a longitude e a latitude ao dataframe trabalhado\n",
    "paises = pd.read_csv('latitude_longitude.csv', usecols = [0, 1, 2, 3])\n",
    "paises.rename(columns={'country_code': 'PAIS'}, inplace=True)\n",
    "#paises['PAIS'].replace('UK', 'GB')\n",
    "merge.replace('UK', 'GB')\n",
    "merge = merge.merge(paises, on='PAIS', how = 'left')\n",
    "\n",
    "#Verifica se algum valor está faltndo\n",
    "merge.isnull().values.any()\n",
    "merge"
   ]
  },
  {
   "cell_type": "code",
   "execution_count": null,
   "id": "6f271223-d0c4-4064-ba7b-5c4e33f4a062",
   "metadata": {
    "tags": []
   },
   "outputs": [],
   "source": [
    "from folium import plugins\n",
    "mapa = folium.Map(location = [-0, -0], zoom_start = 1.)\n",
    "coordenadas = []\n",
    "for lat, lng in zip(merge.latitude.values, merge.longitude.values):\n",
    "    coordenadas.append([lat, lng])   \n",
    "#coordenadas\n",
    "\n",
    "mapa.add_child(plugins.HeatMap(coordenadas))"
   ]
  },
  {
   "cell_type": "code",
   "execution_count": null,
   "id": "1a15437e-8b2c-4bd4-900a-447b9ddba8a6",
   "metadata": {},
   "outputs": [],
   "source": [
    "\n",
    "mergeP = merge.groupby(['country']).count()\n",
    "mergeP = mergeP.iloc[:, [0]]\n",
    "mergeP.rename(columns = {'ID_ALBUM': 'COUNT'}, inplace = True)\n",
    "teste = ['Australia','Canada',  ]\n",
    "mergeP['index1'] = mergeP.index\n",
    "mergeP['index1'] = mergeP['index1'].astype(str)\n",
    "\n",
    "mergeP.replace('United States', \"United States of America\", inplace = True)\n",
    "\n",
    "\n",
    "mergeP"
   ]
  },
  {
   "cell_type": "code",
   "execution_count": null,
   "id": "80c2dffe-6cb4-4150-8995-dc3d6f48bb4c",
   "metadata": {},
   "outputs": [],
   "source": [
    "# Gráfico choropleth\n",
    "\n",
    "#merge['PAIS'] = merge['PAIS'].replace(['PAIS'],'CAN')\n",
    "\n",
    "\n",
    "url = 'https://raw.githubusercontent.com/python-visualization/folium/master/examples/data'\n",
    "country_shapes = f'{url}/world-countries.json'\n",
    "\n",
    "\n",
    "m = folium.Map(location=[-0, -0], zoom_start = 1.5)\n",
    "\n",
    "folium.Choropleth(\n",
    "    geo_data = country_shapes,\n",
    "    name = \"ip_region\",\n",
    "    data = mergeP,\n",
    "    columns = [\"index1\", \"COUNT\"],\n",
    "    key_on = 'feature.properties.name',\n",
    "    fill_color = \"YlGn\",\n",
    "    nan_fill_color = 'white',\n",
    "    fill_opacity = 0.7,\n",
    "    line_opacity = 0.4,\n",
    "    legend_name = \"Choropleth Álbuns\",\n",
    ").add_to(m)\n",
    "\n",
    "folium.LayerControl().add_to(m)\n",
    "\n",
    "mergeP\n",
    "\n",
    "\n",
    "m"
   ]
  },
  {
   "cell_type": "markdown",
   "id": "8a53601c-0207-421a-a60a-32529bde68e3",
   "metadata": {},
   "source": [
    "## Utilizando um Treemap"
   ]
  },
  {
   "cell_type": "code",
   "execution_count": null,
   "id": "3d3a166a-21f2-46d6-a687-275f618c3ad4",
   "metadata": {},
   "outputs": [],
   "source": [
    "artistaP = artista.groupby(['PAIS']).count()\n",
    "artistaP = artistaP.iloc[:, [0]]\n",
    "\n",
    "colors = [\"red\",\"green\",\"blue\", \"grey\", \"yellow\", \"purple\"]\n",
    "\n",
    "plt.figure(figsize = (16,11), dpi = 80)\n",
    "squarify.plot(sizes = artistaP.values, label = artistaP.index, color = colors, alpha = .7, text_kwargs={'fontsize' : 25})\n",
    "\n",
    "\n",
    "plt.title(\"Álbuns por País\", fontsize = 25, pad = 30.)\n",
    "plt.axis('off')\n",
    "plt.show()"
   ]
  },
  {
   "cell_type": "markdown",
   "id": "6137d173-884e-454b-b7f8-fd23df4c1815",
   "metadata": {},
   "source": [
    "Revisar o gráfico de linhas, fazer com a função do pandas gerou o mesmo problema "
   ]
  },
  {
   "cell_type": "code",
   "execution_count": null,
   "id": "693c3758-ec7e-4a97-82ec-5c599772426e",
   "metadata": {
    "tags": []
   },
   "outputs": [],
   "source": [
    "#Albuns por ano\n",
    "\n",
    "\n",
    "#plt.xlabel(\"Ano\")  \n",
    "#plt.ylabel(\"Quantidade de Álbuns\") \n",
    "fig = plt.figure(figsize =(16, 10)) \n",
    "\n",
    "plt.yticks(fontsize = 20)\n",
    "plt.xticks(fontsize = 20)\n",
    "plt.title(\"Quantidade de Álbuns por Ano\")\n",
    "agrupado = merge.groupby(['ANO']).size()\n",
    "#agrupado.plot.line(color = 'blue')\n",
    "srn.lineplot(data = agrupado)"
   ]
  },
  {
   "cell_type": "markdown",
   "id": "aeaea514-7a44-4015-aa3f-6cfd2406db24",
   "metadata": {},
   "source": [
    "Pensar numa forma melhor de plotar as médias das notas"
   ]
  },
  {
   "cell_type": "code",
   "execution_count": null,
   "id": "c5619020-5f96-47a3-a3fb-69d7ed46d2ea",
   "metadata": {},
   "outputs": [],
   "source": [
    "#Albuns por ano\n",
    "label = merge['NOME_ALBUM'].values\n",
    "freqM = merge['MINHA_NOTA'].values\n",
    "freqS = merge['MEDIA_SPUT'].values\n",
    "\n",
    "#Esse fica consideravelmente melhor no Power BI\n",
    "\n",
    "\n",
    "#Por algum motivo adicionar uma vírgula faz a legenda funcionar\n",
    "\n",
    "fig = plt.figure( figsize=(70, 18)) \n",
    "plt.yticks(fontsize = 20)\n",
    "plt.xticks(fontsize = 20)\n",
    "ax1, = plt.plot(label, freqM, marker = 'o') \n",
    "ax2, = plt.plot(label, freqS, marker = 'o') \n",
    "\n",
    "#Resolvendo o plot das linhas médias\n",
    "plt.hlines(y = freqM.mean(), xmin = 0, xmax = 100, color = 'g')\n",
    "plt.hlines(y = freqS.mean(), xmin = 0, xmax = 100, color = 'r')\n",
    "\n",
    "#plt.plot(label, freqM.mean()) \n",
    "\n",
    "plt.legend([ax1, ax2], ['Notas Média','Notas Sputinik','Minha Média', 'Média Sputink'])\n",
    "plt.xlabel(\"Ano\")  \n",
    "plt.ylabel(\"Quantidade de Álbuns\")  \n",
    "plt.xticks(rotation = 75)\n",
    "plt.title(\"Quantidade de Álbuns por Ano\")  \n",
    "plt.show() "
   ]
  },
  {
   "cell_type": "code",
   "execution_count": null,
   "id": "456891ca-659d-421e-91ab-c1e8cd5a5b6c",
   "metadata": {
    "tags": []
   },
   "outputs": [],
   "source": [
    "#Resumo dos dados usados a seguir\n",
    "print('Minhas Notas: ')\n",
    "merge['MINHA_NOTA'].describe()"
   ]
  },
  {
   "cell_type": "code",
   "execution_count": null,
   "id": "edfa935b-ad4a-4f7a-986f-e4744f1288c8",
   "metadata": {},
   "outputs": [],
   "source": [
    "#Histograma das minhas notas\n",
    "#Histograma e Boxplot são mt melhores por aqui!!\n",
    "#Ficaram iguais ao do Power BI\n",
    "\n",
    "#merge.hist(column = 'MINHA_NOTA', bins = 5)\n",
    "#plt.show()\n",
    "#Vai ser descontinuado \n",
    "fig = plt.figure( figsize=(12.8, 9.6)) \n",
    "plt.yticks(fontsize = 20)\n",
    "plt.xticks(fontsize = 15)\n",
    "\n",
    "srn.histplot(data =merge['MINHA_NOTA'], kde = True, bins = 8).set_title('Minha Nota')"
   ]
  },
  {
   "cell_type": "code",
   "execution_count": null,
   "id": "318e3462-c606-42a7-832e-06d7b51ab8af",
   "metadata": {},
   "outputs": [],
   "source": [
    "#Histograma das notas Sputinik\n",
    "\n",
    "\n",
    "#merge.hist(column = 'MEDIA_SPUT', bins = 5)\n",
    "#plt.show()\n",
    "fig = plt.figure( figsize=(12.8, 9.6)) \n",
    "plt.yticks(fontsize = 20)\n",
    "plt.xticks(fontsize = 15)\n",
    "\n",
    "srn.histplot(data =merge['MEDIA_SPUT'], kde = True, bins = 8).set_title('Média Sputinik')"
   ]
  },
  {
   "cell_type": "markdown",
   "id": "04c9a116-d4c6-42c1-96c4-eed7bc31bbe3",
   "metadata": {},
   "source": [
    "Revisar os boxplots"
   ]
  },
  {
   "cell_type": "code",
   "execution_count": null,
   "id": "039c0b45-7d09-4b4f-9c51-66d071e5ea6b",
   "metadata": {},
   "outputs": [],
   "source": [
    "fig = plt.figure( figsize=(12.8, 9.6)) \n",
    "plt.yticks(fontsize = 15)\n",
    "plt.xticks(fontsize = 10)\n",
    "\n",
    "merge.boxplot(column='MINHA_NOTA')\n"
   ]
  },
  {
   "cell_type": "code",
   "execution_count": null,
   "id": "ca0d2d4d-471d-4571-b9b8-835fb57ca140",
   "metadata": {},
   "outputs": [],
   "source": [
    "#Boxplot das minhas notas\n",
    "fig = plt.figure( figsize=(12.8, 9.6)) \n",
    "plt.yticks(fontsize = 15)\n",
    "plt.xticks(fontsize = 10)\n",
    "\n",
    "srn.boxplot(x = merge['MINHA_NOTA'], y = merge['NOME_BANDA']).set_title('Minha Nota')"
   ]
  },
  {
   "cell_type": "code",
   "execution_count": null,
   "id": "ea1c7268-bb60-46ed-b6fe-3e9f8f3574b1",
   "metadata": {},
   "outputs": [],
   "source": [
    "#Boxplot das notas sputinik\n",
    "fig = plt.figure( figsize=(12.8, 9.6)) \n",
    "plt.yticks(fontsize = 15)\n",
    "plt.xticks(fontsize = 10)\n",
    "\n",
    "merge.boxplot(column='MEDIA_SPUT')"
   ]
  },
  {
   "cell_type": "code",
   "execution_count": null,
   "id": "5212789a-624a-475d-8a83-460952799026",
   "metadata": {},
   "outputs": [],
   "source": [
    "#Boxplot das notas sputinik\n",
    "fig = plt.figure( figsize=(12.8, 9.6)) \n",
    "plt.yticks(fontsize = 15)\n",
    "plt.xticks(fontsize = 10)\n",
    "\n",
    "srn.boxplot(x =merge['MEDIA_SPUT'], y = merge['NOME_BANDA']).set_title('Nota Sputinik')"
   ]
  },
  {
   "cell_type": "code",
   "execution_count": null,
   "id": "694672cc-fa3b-4d33-9180-0605dbb04691",
   "metadata": {},
   "outputs": [],
   "source": [
    "merge.corr()"
   ]
  },
  {
   "cell_type": "code",
   "execution_count": null,
   "id": "64831165-6775-4560-8a77-e39023b64a75",
   "metadata": {},
   "outputs": [],
   "source": [
    "#Correlação\n",
    "fig = plt.figure( figsize=(12.8, 9.6)) \n",
    "plt.yticks(fontsize = 15)\n",
    "plt.xticks(fontsize = 10)\n",
    "\n",
    "size = 15\n",
    "corr = merge.corr()    \n",
    "plot = srn.heatmap(corr, annot = True, fmt=\".2f\", linewidths=.6)\n",
    "plot"
   ]
  },
  {
   "cell_type": "code",
   "execution_count": null,
   "id": "7c45f7ed-7451-4aee-b03b-d16301fca45d",
   "metadata": {},
   "outputs": [],
   "source": [
    "# Seleção de variáveis preditoras (Feature Selection)\n",
    "atributos = ['ID_ALBUM', 'TEMPO_DURACAO', 'QTD_FAIXAS', 'MEDIA_SPUT', 'ID_ARTISTA', 'ANO', 'QTD_MEMBROS']\n",
    "\n",
    "# Variável a ser prevista\n",
    "atrib_prev = ['MINHA_NOTA']\n",
    "\n",
    "# Criando objetos\n",
    "X = merge[atributos].values\n",
    "Y = merge[atrib_prev].values\n",
    "Y=Y.astype('int')\n",
    "\n",
    "# Definindo a taxa de split\n",
    "split_test_size = 0.30\n",
    "#X\n",
    "#Y\n",
    "X_treino, X_teste, Y_treino, Y_teste = train_test_split(X, Y, test_size = split_test_size, random_state = 42)"
   ]
  },
  {
   "cell_type": "code",
   "execution_count": null,
   "id": "00d713f6-c47d-4ff5-af8d-7f126c972d15",
   "metadata": {},
   "outputs": [],
   "source": [
    "#Imprimindo os resultados\n",
    "print(\"{0:0.2f}% nos dados de treino\".format((len(X_treino)/len(merge.index)) * 100))\n",
    "print(\"{0:0.2f}% nos dados de teste\".format((len(X_teste)/len(merge.index)) * 100))"
   ]
  },
  {
   "cell_type": "code",
   "execution_count": null,
   "id": "f518c198-0145-4781-9110-2edc1eb938a5",
   "metadata": {},
   "outputs": [],
   "source": [
    "#Construindo e treinando o modelo\n",
    "# Utilizando um classificador Naive Bayes\n",
    "from sklearn.naive_bayes import GaussianNB\n",
    "\n",
    "# Criando o modelo preditivo\n",
    "modelo_v1 = GaussianNB()\n",
    "\n",
    "# Treinando o modelo\n",
    "modelo_v1.fit(X_treino, Y_treino.ravel())"
   ]
  },
  {
   "cell_type": "code",
   "execution_count": null,
   "id": "a587df57-0e27-40a8-bf01-d43b71af9e40",
   "metadata": {},
   "outputs": [],
   "source": [
    "#Previsões\n",
    "previsoes = modelo_v1.predict(X_teste)\n",
    "previsoes"
   ]
  },
  {
   "cell_type": "code",
   "execution_count": null,
   "id": "673d2bfc-1d08-4d75-a2a0-e5e3ae6737d5",
   "metadata": {},
   "outputs": [],
   "source": [
    "#Verificando a exatidão do modelo de treino\n",
    "\n",
    "from sklearn import metrics\n",
    "\n",
    "predict_train = modelo_v1.predict(X_treino)\n",
    "\n",
    "print(\"Exatidão (Accuracy): {0:.4f}\".format(metrics.accuracy_score(Y_treino, predict_train)))\n",
    "print()"
   ]
  },
  {
   "cell_type": "code",
   "execution_count": null,
   "id": "fceace84-eb61-43a3-8837-067877b81eed",
   "metadata": {},
   "outputs": [],
   "source": [
    "#verificando exatidão no modelo de teste\n",
    "predict_test = modelo_v1.predict(X_teste)\n",
    "\n",
    "print(\"Exatidão (Accuracy): {0:.4f}\".format(metrics.accuracy_score(Y_teste, predict_test)))\n",
    "print()"
   ]
  },
  {
   "cell_type": "code",
   "execution_count": null,
   "id": "5f849b11-9c13-47ff-bf0a-160871ed2e35",
   "metadata": {},
   "outputs": [],
   "source": [
    "#salvando o modelo\n",
    "import pickle\n",
    "filename = 'moelo_treinado.sav'\n",
    "pickle.dump(modelo_v1, open(filename, 'wb'))"
   ]
  },
  {
   "cell_type": "code",
   "execution_count": null,
   "id": "c6027e18-decb-4518-820a-bd89cc040cf4",
   "metadata": {},
   "outputs": [],
   "source": [
    "#Utilizando o modelo\n",
    "loaded_model = pickle.load(open(filename, 'rb'))\n",
    "resultado1 = loaded_model.predict(X_teste[18].reshape(1, -1))\n",
    "resultado2 = loaded_model.predict(X_teste[18].reshape(1, -1))\n",
    "\n",
    "#print(Y_teste)\n",
    "print(resultado1)\n",
    "print(resultado2)"
   ]
  },
  {
   "cell_type": "code",
   "execution_count": null,
   "id": "e24255c7-dfc2-4970-9fa2-0436b2a516e7",
   "metadata": {},
   "outputs": [],
   "source": [
    "#Selecionando os Atributos em busca de melhorar a precisão do modelo\n",
    "#Utilizando do algoritmo Extra Trees Classfifier para descobrir a importância dos atributos\n",
    "floresta = ExtraTreesClassifier()\n",
    "floresta.fit(X_treino, Y_treino.ravel())\n",
    "importancias = floresta.feature_importances_\n",
    "importancias"
   ]
  },
  {
   "cell_type": "code",
   "execution_count": null,
   "id": "8055ec30-221e-454b-9d8a-2093d61e2ee5",
   "metadata": {},
   "outputs": [],
   "source": [
    "#Usando subconjunto dos mais relevantes para os dados de treino\n",
    "X_treino2 = X_treino[:, [0,1,2,3,5]]\n",
    "X_teste2 = X_teste[:, [0,1,2,3,5]]"
   ]
  },
  {
   "cell_type": "code",
   "execution_count": null,
   "id": "eca4a41d-153e-4600-ac3c-8ec44d0ef875",
   "metadata": {},
   "outputs": [],
   "source": [
    "modelo_v2 = GaussianNB()\n",
    "modelo_v2.fit(X_treino2, Y_treino.ravel())\n",
    "previsoes2 = modelo_v2.predict(X_teste2)\n",
    "taxa_acerto = accuracy_score(Y_teste, previsoes2)\n",
    "taxa_acerto"
   ]
  },
  {
   "cell_type": "markdown",
   "id": "8f45a4b2-2b8a-4a9b-b62d-9222d1cda75a",
   "metadata": {},
   "source": [
    "# Resultado\n",
    "Apesar da seleção dos atributos, o modelo V2 não é melhor que o modelo V1. \n",
    "## O que fazer agora? \n",
    "\n",
    "Buscar novos agoritmos ou Aumentar o volume de dados no dataset. \n",
    "\n",
    "Todas as variáveis usadas são numéricas, então o tratamento de categóricas não é necessário."
   ]
  },
  {
   "cell_type": "code",
   "execution_count": null,
   "id": "87addfbe-6210-4b42-ac9e-4bc02d46cb1b",
   "metadata": {},
   "outputs": [],
   "source": [
    "#Testando a criação do modelo com árvore de decisão\n",
    "arvore = DecisionTreeClassifier()\n",
    "arvore.fit(X_treino2, Y_treino.ravel())"
   ]
  },
  {
   "cell_type": "code",
   "execution_count": null,
   "id": "ccf805fc-f3aa-4436-af4b-e77bfeac46ac",
   "metadata": {},
   "outputs": [],
   "source": [
    "#Exportação da Árvore de Decisão .dot\n",
    "export_graphviz(arvore, out_file = 'tree.dot')"
   ]
  },
  {
   "cell_type": "code",
   "execution_count": null,
   "id": "3c9792c6-e874-4812-8f80-922a913a1a20",
   "metadata": {},
   "outputs": [],
   "source": [
    "previsoes2 = arvore.predict(X_teste2)\n",
    "previsoes2"
   ]
  },
  {
   "cell_type": "code",
   "execution_count": null,
   "id": "1e135927-af4d-423d-acab-b66852898c10",
   "metadata": {},
   "outputs": [],
   "source": [
    "confusao = confusion_matrix(Y_teste, previsoes2)\n",
    "confusao"
   ]
  },
  {
   "cell_type": "code",
   "execution_count": null,
   "id": "42771865-b629-495d-834b-1753f932b446",
   "metadata": {},
   "outputs": [],
   "source": [
    "taxa_acerto = accuracy_score(Y_teste, previsoes2)\n",
    "taxa_acerto"
   ]
  },
  {
   "cell_type": "code",
   "execution_count": null,
   "id": "ae435c1f-caaf-4014-ac75-6760deff6937",
   "metadata": {},
   "outputs": [],
   "source": [
    "#Random Forest\n",
    "floresta = RandomForestClassifier(n_estimators = 100)\n",
    "floresta.fit(X_treino2, Y_treino.ravel())"
   ]
  },
  {
   "cell_type": "code",
   "execution_count": null,
   "id": "31db0c08-baf4-4611-ae3d-54dcd5ec1900",
   "metadata": {},
   "outputs": [],
   "source": [
    "previsoes3 = floresta.predict(X_teste2)\n",
    "previsoes3"
   ]
  },
  {
   "cell_type": "code",
   "execution_count": null,
   "id": "6702be71-b00b-4785-a941-3b6554410a16",
   "metadata": {},
   "outputs": [],
   "source": [
    "consfusao = confusion_matrix(Y_teste, previsoes3)\n",
    "confusao"
   ]
  },
  {
   "cell_type": "code",
   "execution_count": null,
   "id": "dd36cf11-3431-4089-8302-4de1c33c3cda",
   "metadata": {},
   "outputs": [],
   "source": [
    "# Accuracy nos dados de treino\n",
    "# Ovefittin? \n",
    "predict_train = floresta.predict(X_treino2)\n",
    "print(\"Exatidão (Accuracy): {0:.4f}\".format(metrics.accuracy_score(Y_treino, predict_train)))\n",
    "print()"
   ]
  },
  {
   "cell_type": "code",
   "execution_count": null,
   "id": "34a125cc-b6e6-4710-84e8-fedeeb5f2c30",
   "metadata": {},
   "outputs": [],
   "source": [
    "print(\"Exatidão (Accuracy): {0:.4f}\".format(metrics.accuracy_score(Y_teste, previsoes3)))\n",
    "print()"
   ]
  },
  {
   "cell_type": "code",
   "execution_count": null,
   "id": "ec3ce3c0-db56-45cf-8ccd-93112ad6bfad",
   "metadata": {},
   "outputs": [],
   "source": []
  }
 ],
 "metadata": {
  "kernelspec": {
   "display_name": "Python 3 (ipykernel)",
   "language": "python",
   "name": "python3"
  },
  "language_info": {
   "codemirror_mode": {
    "name": "ipython",
    "version": 3
   },
   "file_extension": ".py",
   "mimetype": "text/x-python",
   "name": "python",
   "nbconvert_exporter": "python",
   "pygments_lexer": "ipython3",
   "version": "3.9.7"
  }
 },
 "nbformat": 4,
 "nbformat_minor": 5
}
